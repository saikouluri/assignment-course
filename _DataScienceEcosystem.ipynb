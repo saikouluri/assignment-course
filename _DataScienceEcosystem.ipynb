{
 "cells": [
  {
   "cell_type": "markdown",
   "id": "a04f2238-0edd-40aa-9ee9-4a19c06da5c4",
   "metadata": {},
   "source": [
    "*Data Science Tools and Ecosystem*"
   ]
  },
  {
   "cell_type": "markdown",
   "id": "8a5142f7-c167-4b68-8f0e-47b26324c1be",
   "metadata": {},
   "source": [
    "In this notebook, Data Science Tools and Ecosystem are summarized\n"
   ]
  },
  {
   "cell_type": "markdown",
   "id": "36d61b8b-2dc6-4bae-80dd-c582bee076b3",
   "metadata": {},
   "source": [
    "**Objectives:**\n",
    "- List popular languages\n",
    "- List libraries\n",
    "- List Data Science Tools\n",
    "- Multiply and add integers\n",
    "- Convert minutes to hours\n",
    "  "
   ]
  },
  {
   "cell_type": "markdown",
   "id": "c62df501-d32f-470f-95e3-435a833f3f2b",
   "metadata": {},
   "source": [
    "Some of the popular languages that Data Scientists use are:\n",
    "1. Python\n",
    "2. Scala\n",
    "3. R\n",
    "4. Julia"
   ]
  },
  {
   "cell_type": "markdown",
   "id": "edb01eec-e398-4ca8-8905-90369aba5c08",
   "metadata": {},
   "source": [
    "Some of the commonly used libraries used by Data Scientists include:\n",
    "1. Pandas\n",
    "2. Numpy\n",
    "3. Matplotlib\n",
    "   "
   ]
  },
  {
   "cell_type": "markdown",
   "id": "0581e093-6cf9-4ba3-a4c2-9ad93b06fb3f",
   "metadata": {},
   "source": [
    "|Data Science Tools|\n",
    "|:----------------:|\n",
    "|Tableau|\n",
    "|Jupyter|\n",
    "|Apache Spark|"
   ]
  },
  {
   "cell_type": "markdown",
   "id": "19ae394e-fa07-4d09-9d41-5fca193f9562",
   "metadata": {},
   "source": [
    "***Below are a few examples of evaluating arithmetic expressions in Python***"
   ]
  },
  {
   "cell_type": "code",
   "execution_count": 5,
   "id": "328a4cf8-1554-4d9b-8f53-4d98b8a2018b",
   "metadata": {},
   "outputs": [
    {
     "name": "stdout",
     "output_type": "stream",
     "text": [
      "17\n"
     ]
    }
   ],
   "source": [
    "#This a simple arithmetic expression to multiply then add integers\n",
    "print((3*4)+5)\n"
   ]
  },
  {
   "cell_type": "code",
   "execution_count": 7,
   "id": "b7f15e9e-d64e-410c-a836-672d235b5923",
   "metadata": {},
   "outputs": [
    {
     "name": "stdout",
     "output_type": "stream",
     "text": [
      "3.3333333333333335\n"
     ]
    }
   ],
   "source": [
    "#This will convert 200 minutes to hours by diving by 60\n",
    "print(200/60)\n"
   ]
  },
  {
   "cell_type": "markdown",
   "id": "4182fd31-05a7-4543-b270-f88327bd199b",
   "metadata": {},
   "source": [
    "**Author**\n",
    "\n",
    "Sai Sandeep Kouluri"
   ]
  },
  {
   "cell_type": "code",
   "execution_count": null,
   "id": "c1fc6613-54e5-49f6-ba46-f9a7afc071eb",
   "metadata": {},
   "outputs": [],
   "source": []
  }
 ],
 "metadata": {
  "kernelspec": {
   "display_name": "Python 3 (ipykernel)",
   "language": "python",
   "name": "python3"
  },
  "language_info": {
   "codemirror_mode": {
    "name": "ipython",
    "version": 3
   },
   "file_extension": ".py",
   "mimetype": "text/x-python",
   "name": "python",
   "nbconvert_exporter": "python",
   "pygments_lexer": "ipython3",
   "version": "3.12.8"
  }
 },
 "nbformat": 4,
 "nbformat_minor": 5
}
